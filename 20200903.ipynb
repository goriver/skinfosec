{
  "nbformat": 4,
  "nbformat_minor": 0,
  "metadata": {
    "colab": {
      "name": "20200903.ipynb",
      "provenance": [],
      "toc_visible": true,
      "authorship_tag": "ABX9TyNwlb924MyxklNU9Q8qxokK",
      "include_colab_link": true
    },
    "kernelspec": {
      "name": "python3",
      "display_name": "Python 3"
    }
  },
  "cells": [
    {
      "cell_type": "markdown",
      "metadata": {
        "id": "view-in-github",
        "colab_type": "text"
      },
      "source": [
        "<a href=\"https://colab.research.google.com/github/goriver/skinfosec/blob/master/20200903.ipynb\" target=\"_parent\"><img src=\"https://colab.research.google.com/assets/colab-badge.svg\" alt=\"Open In Colab\"/></a>"
      ]
    },
    {
      "cell_type": "markdown",
      "metadata": {
        "id": "DwWxJJTIzHee",
        "colab_type": "text"
      },
      "source": [
        "# matplotlib\n",
        "\n",
        "* 그래프 생성 순서\n",
        "1. 그림 생성\n",
        "    - ```fig = plt.figure()``` \n",
        "    - 영역을 잡는다고 생각하면 된다. \n",
        "2. 하위 그래프 추가\n",
        "    -  ``` ax1 = fig.add_subplot(1,1,1)``` \n",
        "    - 하나의 캔버스에 여러개의 plot을 그릴 수 있다. \n",
        "3. x,y축 레이블, 눈금 작성\n",
        "    - ```plt.xlael('Customer Name')```\n",
        "4. 그래프 작성\n",
        "    - ```plt.xticks(~~~~)```\n",
        "    - 데이터를 지정하고, 선형, 빨강 등을 정할 수 있다.\n",
        "5. 그래프 보이기\n",
        "\n",
        "\n",
        " * 종류\n",
        " 1. bar\n",
        " 2. histogram\n",
        " 3. 선(line)\n",
        " 4. candle(박스 그래프)\n",
        "    - 주식 주가, 가격 표시할 때 많이 쓴다."
      ]
    },
    {
      "cell_type": "markdown",
      "metadata": {
        "id": "aGNW5pXE17r2",
        "colab_type": "text"
      },
      "source": [
        "# matplotlib01"
      ]
    },
    {
      "cell_type": "code",
      "metadata": {
        "id": "DHuLGSqGzDDj",
        "colab_type": "code",
        "colab": {}
      },
      "source": [
        "import matplotlib.pyplot as plt\n",
        "%matplotlib inline"
      ],
      "execution_count": null,
      "outputs": []
    },
    {
      "cell_type": "code",
      "metadata": {
        "id": "nv0_lBAS2KMF",
        "colab_type": "code",
        "colab": {
          "base_uri": "https://localhost:8080/",
          "height": 53
        },
        "outputId": "dec96d47-5548-4ede-8b75-ab1a7ceec5e0"
      },
      "source": [
        "import numpy as np\n",
        "\n",
        "x= np.linspace(0,5,11)\n",
        "y= x**2\n",
        "print(x)\n",
        "\n",
        "print(y)"
      ],
      "execution_count": null,
      "outputs": [
        {
          "output_type": "stream",
          "text": [
            "[0.  0.5 1.  1.5 2.  2.5 3.  3.5 4.  4.5 5. ]\n",
            "[ 0.    0.25  1.    2.25  4.    6.25  9.   12.25 16.   20.25 25.  ]\n"
          ],
          "name": "stdout"
        }
      ]
    },
    {
      "cell_type": "code",
      "metadata": {
        "id": "ssXXkI-W2XPL",
        "colab_type": "code",
        "colab": {
          "base_uri": "https://localhost:8080/",
          "height": 265
        },
        "outputId": "c46ba28b-7fb3-4670-df99-bcfad202594f"
      },
      "source": [
        "plt.plot(x,y,'r') # red\n",
        "plt.show()"
      ],
      "execution_count": null,
      "outputs": [
        {
          "output_type": "display_data",
          "data": {
            "image/png": "[encoded data removed]",
            "text/plain": [
              "<Figure size 432x288 with 1 Axes>"
            ]
          },
          "metadata": {
            "tags": [],
            "needs_background": "light"
          }
        }
      ]
    },
    {
      "cell_type": "code",
      "metadata": {
        "id": "Sm5dL_gY2s26",
        "colab_type": "code",
        "colab": {
          "base_uri": "https://localhost:8080/",
          "height": 495
        },
        "outputId": "6b8d23d2-1442-4694-c971-6c9566fab9e5"
      },
      "source": [
        "# 값을 달아보기\n",
        "\n",
        "plt.rc('font', family='Malgun Gothic')\n",
        "plt.plot(x,y,'r') # red\n",
        "plt.xlabel('x Axis')\n",
        "plt.ylabel('y Axis')\n",
        "plt.title('제목') # 한글을 지원을 안함\n",
        "plt.show()"
      ],
      "execution_count": null,
      "outputs": [
        {
          "output_type": "stream",
          "text": [
            "findfont: Font family ['Malgun Gothic'] not found. Falling back to DejaVu Sans.\n",
            "/usr/local/lib/python3.6/dist-packages/matplotlib/backends/backend_agg.py:214: RuntimeWarning: Glyph 51228 missing from current font.\n",
            "  font.set_text(s, 0.0, flags=flags)\n",
            "/usr/local/lib/python3.6/dist-packages/matplotlib/backends/backend_agg.py:214: RuntimeWarning: Glyph 47785 missing from current font.\n",
            "  font.set_text(s, 0.0, flags=flags)\n",
            "findfont: Font family ['Malgun Gothic'] not found. Falling back to DejaVu Sans.\n",
            "/usr/local/lib/python3.6/dist-packages/matplotlib/backends/backend_agg.py:183: RuntimeWarning: Glyph 51228 missing from current font.\n",
            "  font.set_text(s, 0, flags=flags)\n",
            "/usr/local/lib/python3.6/dist-packages/matplotlib/backends/backend_agg.py:183: RuntimeWarning: Glyph 47785 missing from current font.\n",
            "  font.set_text(s, 0, flags=flags)\n"
          ],
          "name": "stderr"
        },
        {
          "output_type": "display_data",
          "data": {
            "image/png": "[encoded data removed]",
            "text/plain": [
              "<Figure size 432x288 with 1 Axes>"
            ]
          },
          "metadata": {
            "tags": [],
            "needs_background": "light"
          }
        }
      ]
    },
    {
      "cell_type": "code",
      "metadata": {
        "id": "IprPinuC3BwL",
        "colab_type": "code",
        "colab": {}
      },
      "source": [
        "# 폰트 지정하는 법\n"
      ],
      "execution_count": null,
      "outputs": []
    }
  ]
}